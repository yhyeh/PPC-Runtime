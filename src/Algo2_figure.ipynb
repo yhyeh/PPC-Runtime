{
 "cells": [
  {
   "cell_type": "code",
   "execution_count": 27,
   "metadata": {},
   "outputs": [],
   "source": [
    "import numpy as np\n",
    "import matplotlib.pyplot as plt\n",
    "import math\n",
    "#%matplotlib notebook"
   ]
  },
  {
   "cell_type": "code",
   "execution_count": 17,
   "metadata": {},
   "outputs": [
    {
     "name": "stdout",
     "output_type": "stream",
     "text": [
      "[  163.21    243.524   294.      834.178  1504.456  5813.48   7748.938\n",
      " 38842.7  ]\n",
      "[9.20590000e+02 3.14987600e+03 3.12720000e+03 4.98424220e+04\n",
      " 5.17919440e+04 4.67179720e+05 5.42721862e+05 1.44034350e+06]\n",
      "[   76.01    154.524   192.      710.578  1346.456  5580.68   7369.338\n",
      " 38180.3  ]\n",
      "[[7.60100000e+01 1.54524000e+02 1.92000000e+02 7.10578000e+02\n",
      "  1.34645600e+03 5.58068000e+03 7.36933800e+03 3.81803000e+04]\n",
      " [9.20590000e+02 3.14987600e+03 3.12720000e+03 4.98424220e+04\n",
      "  5.17919440e+04 4.67179720e+05 5.42721862e+05 1.44034350e+06]]\n"
     ]
    }
   ],
   "source": [
    "nSample = 100\n",
    "nDup = 5\n",
    "runtime = np.zeros((8, nSample))\n",
    "for K in range(3, 11):\n",
    "    fname = 'algo2_output/with_path_3_thread/valK{}.csv'.format(K)\n",
    "    runtime_K = np.genfromtxt(fname, delimiter=',')\n",
    "    runtime[K-3] = np.mean(runtime_K[:nSample], axis=1)\n",
    "\n",
    "mean = np.mean(runtime, axis=1)\n",
    "Max = np.max(runtime, axis=1)-mean\n",
    "Min = mean - np.min(runtime, axis=1)\n",
    "print(mean)\n",
    "print(Max)\n",
    "print(Min)\n",
    "err = np.zeros((2, len(Max)))\n",
    "err[0] = Min\n",
    "err[1] = Max\n",
    "print(err)"
   ]
  },
  {
   "cell_type": "code",
   "execution_count": 19,
   "metadata": {},
   "outputs": [
    {
     "data": {
      "image/png": "[encoded data removed]",
      "text/plain": [
       "<Figure size 432x288 with 1 Axes>"
      ]
     },
     "metadata": {
      "needs_background": "light"
     },
     "output_type": "display_data"
    }
   ],
   "source": [
    "plt.bar(range(3,11), mean, width=0.5, color='orange')\n",
    "plt.errorbar(range(3,11), mean, yerr=err, fmt='none', capsize=2, capthick=0.3, elinewidth=1)\n",
    "plt.ylabel('Execution Time (µs)')\n",
    "plt.xlabel('Chain Length K')\n",
    "plt.title('Algorithm2: NF-Cluster Assignment')\n",
    "plt.tight_layout()\n",
    "#plt.savefig('algo2_3_100_path'+str(nSample)+'.png', dpi=1000)"
   ]
  },
  {
   "cell_type": "code",
   "execution_count": null,
   "metadata": {},
   "outputs": [],
   "source": []
  },
  {
   "cell_type": "code",
   "execution_count": null,
   "metadata": {},
   "outputs": [],
   "source": []
  },
  {
   "cell_type": "code",
   "execution_count": 13,
   "metadata": {},
   "outputs": [
    {
     "name": "stdout",
     "output_type": "stream",
     "text": [
      "[170.8 132.8 132.4 135.4 180.8 242.6 403.  707.6]\n",
      "[29.2 69.2 58.6 50.6 53.2 60.4 49.  76.4]\n",
      "[19.8 51.8 35.4 32.4 45.8 37.6 44.  50.6]\n",
      "[[19.8 51.8 35.4 32.4 45.8 37.6 44.  50.6]\n",
      " [29.2 69.2 58.6 50.6 53.2 60.4 49.  76.4]]\n"
     ]
    }
   ],
   "source": [
    "nSample = 1\n",
    "nDup = 5\n",
    "runtime = np.zeros((8, nDup))\n",
    "for K in range(3, 11):\n",
    "    fname = 'algo2_output/with_path_min_thread/valK{}.csv'.format(K)\n",
    "    runtime_K = np.genfromtxt(fname, delimiter=',')\n",
    "    runtime[K-3] = runtime_K\n",
    "\n",
    "mean = np.mean(runtime, axis=1)\n",
    "Max = np.max(runtime, axis=1)-mean\n",
    "Min = mean - np.min(runtime, axis=1)\n",
    "print(mean)\n",
    "print(Max)\n",
    "print(Min)\n",
    "err = np.zeros((2, len(Max)))\n",
    "err[0] = Min\n",
    "err[1] = Max\n",
    "print(err)"
   ]
  },
  {
   "cell_type": "code",
   "execution_count": 16,
   "metadata": {},
   "outputs": [
    {
     "data": {
      "image/png": "[encoded data removed]",
      "text/plain": [
       "<Figure size 432x288 with 1 Axes>"
      ]
     },
     "metadata": {
      "needs_background": "light"
     },
     "output_type": "display_data"
    }
   ],
   "source": [
    "plt.bar(range(3,11), mean, width=0.5, color='orange')\n",
    "plt.errorbar(range(3,11), mean, yerr=err, fmt='none', capsize=2, capthick=0.3, elinewidth=1)\n",
    "plt.ylabel('Execution Time (µs)')\n",
    "plt.xlabel('Chain Length K')\n",
    "plt.title('Algorithm2: NF-Cluster Assignment')\n",
    "plt.tight_layout()\n",
    "plt.savefig('algo2_path_min_thread.png', dpi=1000)"
   ]
  },
  {
   "cell_type": "code",
   "execution_count": 11,
   "metadata": {},
   "outputs": [
    {
     "data": {
      "text/plain": [
       "16.935087808430293"
      ]
     },
     "execution_count": 11,
     "metadata": {},
     "output_type": "execute_result"
    }
   ],
   "source": [
    "pow(10/9, 10/2)*10"
   ]
  },
  {
   "cell_type": "code",
   "execution_count": 9,
   "metadata": {},
   "outputs": [
    {
     "data": {
      "text/plain": [
       "19.865951950765062"
      ]
     },
     "execution_count": 9,
     "metadata": {},
     "output_type": "execute_result"
    }
   ],
   "source": [
    "5629534/283376"
   ]
  },
  {
   "cell_type": "code",
   "execution_count": 146,
   "metadata": {},
   "outputs": [
    {
     "name": "stdout",
     "output_type": "stream",
     "text": [
      "max loc\n",
      "[ 67  47 110  44  71 196  82  86]\n",
      "[1.55082500e+01 4.29260000e+01 1.48836000e+02 3.96280000e+02\n",
      " 1.27987550e+03 4.55234375e+03 1.26346915e+04 5.42309950e+04]\n",
      "[[9.10825000e+00 3.18260000e+01 1.28686000e+02 3.53280000e+02\n",
      "  1.19697550e+03 4.28004375e+03 1.21747915e+04 5.26104450e+04]\n",
      " [9.53917500e+01 1.24074000e+02 2.62714000e+02 1.04662000e+03\n",
      "  4.33257450e+03 1.51927562e+04 6.49289085e+04 2.63328155e+05]]\n",
      "max loc\n",
      "[ 75  38 117 186 144  64  82  41]\n",
      "[1.2212750e+01 3.0944500e+01 9.5104000e+01 2.2226950e+02 7.0311750e+02\n",
      " 1.7787160e+03 6.7874385e+03 1.7719310e+04]\n",
      "[[5.86275000e+00 1.97945000e+01 7.51040000e+01 1.84969500e+02\n",
      "  6.19767500e+02 1.61306600e+03 6.46788850e+03 1.70825600e+04]\n",
      " [7.99372500e+01 1.09605500e+02 3.14146000e+02 1.40693050e+03\n",
      "  4.81518250e+03 1.78344340e+04 7.47005115e+04 2.82467040e+05]]\n"
     ]
    }
   ],
   "source": [
    "nSample = 1000\n",
    "nNewSample = 200\n",
    "nDup = 20\n",
    "distr = ['homogeneous1000', 'bias1000']\n",
    "meanAll = np.zeros((len(distr), 8))\n",
    "maxAll = np.zeros((len(distr), 8))\n",
    "errAll = np.zeros((len(distr), 2, 8))\n",
    "\n",
    "for i in range(len(distr)):\n",
    "    runtime = np.zeros((8, nNewSample))\n",
    "    \n",
    "    for K in range(3, 11):\n",
    "        fname = 'algo2_output/'+distr[i]+'/valK{}.csv'.format(K)\n",
    "        runtime_K = np.genfromtxt(fname, delimiter=',')\n",
    "        \n",
    "        # Resample Begin\n",
    "        \n",
    "        runtime_K=runtime_K[np.random.randint(nSample, size=nNewSample)]\n",
    "        nSample = nNewSample\n",
    "        \n",
    "        # End\n",
    "        \n",
    "        runtime[K-3] = np.mean(runtime_K[:nSample], axis=1)\n",
    "\n",
    "    mean = np.mean(runtime, axis=1)\n",
    "    Max = np.max(runtime, axis=1)-mean\n",
    "    print(\"max loc\")\n",
    "    print(np.argmax(runtime, axis=1))\n",
    "    Min = mean - np.min(runtime, axis=1)\n",
    "    print(mean)\n",
    "    err = np.zeros((2, len(Max)))\n",
    "    err[0] = Min\n",
    "    err[1] = Max\n",
    "    print(err)\n",
    "    meanAll[i] = mean\n",
    "    errAll[i] = err\n",
    "    maxAll[i] = np.max(runtime, axis=1)"
   ]
  },
  {
   "cell_type": "code",
   "execution_count": 148,
   "metadata": {},
   "outputs": [
    {
     "data": {
      "image/png": "[encoded data removed]",
      "text/plain": [
       "<Figure size 432x288 with 1 Axes>"
      ]
     },
     "metadata": {
      "needs_background": "light"
     },
     "output_type": "display_data"
    }
   ],
   "source": [
    "w=0.2\n",
    "#plt.bar(np.arange(3,11)-w, meanAll[2], width=w, color='red', label='1/x^'+str(distr[2]))\n",
    "#plt.errorbar(np.arange(3,11)-w, meanAll[2], yerr=errAll[2], fmt='none', capsize=2, capthick=0.3, elinewidth=1, color='gray')\n",
    "\n",
    "plt.bar(np.arange(3,11)-1.5*w, np.log(meanAll[1]), width=w, color='blue', label='bias, avg', edgecolor='black')\n",
    "plt.bar(np.arange(3,11)-0.5*w, np.log(meanAll[0]), width=w, color='orange', label='homogeneous, avg', edgecolor='black')\n",
    "#plt.errorbar(np.arange(3,11)+w, meanAll[0], yerr=errAll[0], fmt='none', capsize=2, capthick=0.3, elinewidth=1, color='gray')\n",
    "\n",
    "plt.bar(np.arange(3,11)+0.5*w, np.log(maxAll[1]), width=w, color='lightsteelblue', label='bias, max', edgecolor='black')\n",
    "plt.bar(np.arange(3,11)+1.5*w, np.log(maxAll[0]), width=w, color='moccasin', label='homogeneous, max', edgecolor='black')\n",
    "#plt.errorbar(np.arange(3,11), meanAll[1], yerr=errAll[1], fmt='none', capsize=2, capthick=0.3, elinewidth=1, color='gray')\n",
    "\n",
    "\n",
    "\n",
    "plt.ylabel('Execution Time (log µs)')\n",
    "plt.xlabel('Chain Length K')\n",
    "plt.legend()\n",
    "plt.rcParams['axes.spines.right'] = False\n",
    "plt.rcParams['axes.spines.top'] = False\n",
    "plt.grid(color='grey', linestyle='-', linewidth=0.1)\n",
    "plt.rcParams['axes.axisbelow'] = True\n",
    "#plt.title('Algorithm2: NF-Cluster Assignment')\n",
    "plt.tight_layout()\n",
    "plt.savefig('algo2_resample_200.png', dpi=1000)"
   ]
  },
  {
   "cell_type": "code",
   "execution_count": 157,
   "metadata": {},
   "outputs": [
    {
     "data": {
      "image/png": "[encoded data removed]",
      "text/plain": [
       "<Figure size 432x288 with 1 Axes>"
      ]
     },
     "metadata": {
      "needs_background": "light"
     },
     "output_type": "display_data"
    }
   ],
   "source": [
    "w=0.2\n",
    "#plt.bar(np.arange(3,11)-w, meanAll[2], width=w, color='red', label='1/x^'+str(distr[2]))\n",
    "#plt.errorbar(np.arange(3,11)-w, meanAll[2], yerr=errAll[2], fmt='none', capsize=2, capthick=0.3, elinewidth=1, color='gray')\n",
    "\n",
    "plt.bar(np.arange(3,11)-1.5*w, meanAll[1], width=w, color='blue', label='bias, avg', edgecolor='black')\n",
    "plt.bar(np.arange(3,11)+0.5*w, maxAll[1], width=w, color='lightsteelblue', label='bias, max', edgecolor='black')\n",
    "#plt.errorbar(np.arange(3,11)+w, meanAll[0], yerr=errAll[0], fmt='none', capsize=2, capthick=0.3, elinewidth=1, color='gray')\n",
    "\n",
    "plt.bar(np.arange(3,11)-0.5*w, meanAll[0], width=w, color='orange', label='homogeneous, avg', edgecolor='black')\n",
    "plt.bar(np.arange(3,11)+1.5*w, maxAll[0], width=w, color='moccasin', label='homogeneous, max', edgecolor='black')\n",
    "#plt.errorbar(np.arange(3,11), meanAll[1], yerr=errAll[1], fmt='none', capsize=2, capthick=0.3, elinewidth=1, color='gray')\n",
    "\n",
    "\n",
    "\n",
    "plt.ylabel('Execution Time (µs)')\n",
    "plt.xlabel('Chain Length K')\n",
    "plt.legend()\n",
    "plt.rcParams['axes.spines.right'] = False\n",
    "plt.rcParams['axes.spines.top'] = False\n",
    "plt.grid(color='grey', linestyle='-', linewidth=0.1)\n",
    "plt.rcParams['axes.axisbelow'] = True\n",
    "#plt.title('Algorithm2: NF-Cluster Assignment')\n",
    "plt.tight_layout()\n",
    "plt.savefig('algo2_resample_200_nolog.png', dpi=1000)"
   ]
  },
  {
   "cell_type": "code",
   "execution_count": 156,
   "metadata": {},
   "outputs": [],
   "source": [
    "from scipy.io import savemat\n",
    "mdic = {\"algo2_bias_avg\": meanAll[1], \n",
    "        \"algo2_homo_avg\": meanAll[0], \n",
    "        \"algo2_bias_max\": maxAll[1],\n",
    "        \"algo2_homo_max\": maxAll[0]}\n",
    "savemat(\"ppc_algo2_runtime_nolog.mat\", mdic)"
   ]
  },
  {
   "cell_type": "code",
   "execution_count": null,
   "metadata": {},
   "outputs": [],
   "source": []
  }
 ],
 "metadata": {
  "kernelspec": {
   "display_name": "Python 3",
   "language": "python",
   "name": "python3"
  },
  "language_info": {
   "codemirror_mode": {
    "name": "ipython",
    "version": 3
   },
   "file_extension": ".py",
   "mimetype": "text/x-python",
   "name": "python",
   "nbconvert_exporter": "python",
   "pygments_lexer": "ipython3",
   "version": "3.8.5"
  }
 },
 "nbformat": 4,
 "nbformat_minor": 2
}
