{
 "cells": [
  {
   "cell_type": "code",
   "execution_count": null,
   "metadata": {},
   "outputs": [],
   "source": [
    "import numpy as np\n",
    "import matplotlib.pyplot as plt\n",
    "import math\n",
    "#%matplotlib notebook"
   ]
  },
  {
   "cell_type": "code",
   "execution_count": null,
   "metadata": {},
   "outputs": [],
   "source": [
    "nSample = 100\n",
    "nDup = 5\n",
    "runtime = np.zeros((8, nSample))\n",
    "for K in range(3, 11):\n",
    "    fname = 'algo2_output/with_path_3_thread/valK{}.csv'.format(K)\n",
    "    runtime_K = np.genfromtxt(fname, delimiter=',')\n",
    "    runtime[K-3] = np.mean(runtime_K[:nSample], axis=1)\n",
    "\n",
    "mean = np.mean(runtime, axis=1)\n",
    "Max = np.max(runtime, axis=1)-mean\n",
    "Min = mean - np.min(runtime, axis=1)\n",
    "print(mean)\n",
    "print(Max)\n",
    "print(Min)\n",
    "err = np.zeros((2, len(Max)))\n",
    "err[0] = Min\n",
    "err[1] = Max\n",
    "print(err)"
   ]
  },
  {
   "cell_type": "code",
   "execution_count": null,
   "metadata": {},
   "outputs": [],
   "source": [
    "plt.bar(range(3,11), mean, width=0.5, color='orange')\n",
    "plt.errorbar(range(3,11), mean, yerr=err, fmt='none', capsize=2, capthick=0.3, elinewidth=1)\n",
    "plt.ylabel('Execution Time (µs)')\n",
    "plt.xlabel('Chain Length K')\n",
    "plt.title('Algorithm2: NF-Cluster Assignment')\n",
    "plt.tight_layout()\n",
    "#plt.savefig('algo2_3_100_path'+str(nSample)+'.png', dpi=1000)"
   ]
  },
  {
   "cell_type": "code",
   "execution_count": null,
   "metadata": {},
   "outputs": [],
   "source": []
  },
  {
   "cell_type": "code",
   "execution_count": null,
   "metadata": {},
   "outputs": [],
   "source": []
  },
  {
   "cell_type": "code",
   "execution_count": null,
   "metadata": {},
   "outputs": [],
   "source": [
    "nSample = 1\n",
    "nDup = 5\n",
    "runtime = np.zeros((8, nDup))\n",
    "for K in range(3, 11):\n",
    "    fname = 'algo2_output/with_path_min_thread/valK{}.csv'.format(K)\n",
    "    runtime_K = np.genfromtxt(fname, delimiter=',')\n",
    "    runtime[K-3] = runtime_K\n",
    "\n",
    "mean = np.mean(runtime, axis=1)\n",
    "Max = np.max(runtime, axis=1)-mean\n",
    "Min = mean - np.min(runtime, axis=1)\n",
    "print(mean)\n",
    "print(Max)\n",
    "print(Min)\n",
    "err = np.zeros((2, len(Max)))\n",
    "err[0] = Min\n",
    "err[1] = Max\n",
    "print(err)"
   ]
  },
  {
   "cell_type": "code",
   "execution_count": null,
   "metadata": {},
   "outputs": [],
   "source": [
    "plt.bar(range(3,11), mean, width=0.5, color='orange')\n",
    "plt.errorbar(range(3,11), mean, yerr=err, fmt='none', capsize=2, capthick=0.3, elinewidth=1)\n",
    "plt.ylabel('Execution Time (µs)')\n",
    "plt.xlabel('Chain Length K')\n",
    "plt.title('Algorithm2: NF-Cluster Assignment')\n",
    "plt.tight_layout()\n",
    "plt.savefig('algo2_path_min_thread.png', dpi=1000)"
   ]
  },
  {
   "cell_type": "code",
   "execution_count": null,
   "metadata": {},
   "outputs": [],
   "source": [
    "pow(10/9, 10/2)*10"
   ]
  },
  {
   "cell_type": "code",
   "execution_count": null,
   "metadata": {},
   "outputs": [],
   "source": [
    "5629534/283376"
   ]
  },
  {
   "cell_type": "code",
   "execution_count": null,
   "metadata": {},
   "outputs": [],
   "source": [
    "nSample = 1000\n",
    "nNewSample = 200\n",
    "nDup = 20\n",
    "distr = ['homogeneous1000', 'bias1000']\n",
    "meanAll = np.zeros((len(distr), 8))\n",
    "maxAll = np.zeros((len(distr), 8))\n",
    "errAll = np.zeros((len(distr), 2, 8))\n",
    "\n",
    "for i in range(len(distr)):\n",
    "    runtime = np.zeros((8, nNewSample))\n",
    "    \n",
    "    for K in range(3, 11):\n",
    "        fname = 'algo2_output/'+distr[i]+'/valK{}.csv'.format(K)\n",
    "        runtime_K = np.genfromtxt(fname, delimiter=',')\n",
    "        \n",
    "        # Resample Begin\n",
    "        \n",
    "        runtime_K=runtime_K[np.random.randint(nSample, size=nNewSample)]\n",
    "        nSample = nNewSample\n",
    "        \n",
    "        # End\n",
    "        \n",
    "        runtime[K-3] = np.mean(runtime_K[:nSample], axis=1)\n",
    "\n",
    "    mean = np.mean(runtime, axis=1)\n",
    "    Max = np.max(runtime, axis=1)-mean\n",
    "    print(\"max loc\")\n",
    "    print(np.argmax(runtime, axis=1))\n",
    "    Min = mean - np.min(runtime, axis=1)\n",
    "    print(mean)\n",
    "    err = np.zeros((2, len(Max)))\n",
    "    err[0] = Min\n",
    "    err[1] = Max\n",
    "    print(err)\n",
    "    meanAll[i] = mean\n",
    "    errAll[i] = err\n",
    "    maxAll[i] = np.max(runtime, axis=1)"
   ]
  },
  {
   "cell_type": "code",
   "execution_count": null,
   "metadata": {},
   "outputs": [],
   "source": [
    "w=0.2\n",
    "#plt.bar(np.arange(3,11)-w, meanAll[2], width=w, color='red', label='1/x^'+str(distr[2]))\n",
    "#plt.errorbar(np.arange(3,11)-w, meanAll[2], yerr=errAll[2], fmt='none', capsize=2, capthick=0.3, elinewidth=1, color='gray')\n",
    "\n",
    "plt.bar(np.arange(3,11)-1.5*w, np.log(meanAll[1]), width=w, color='blue', label='bias, avg', edgecolor='black')\n",
    "plt.bar(np.arange(3,11)-0.5*w, np.log(meanAll[0]), width=w, color='orange', label='homogeneous, avg', edgecolor='black')\n",
    "#plt.errorbar(np.arange(3,11)+w, meanAll[0], yerr=errAll[0], fmt='none', capsize=2, capthick=0.3, elinewidth=1, color='gray')\n",
    "\n",
    "plt.bar(np.arange(3,11)+0.5*w, np.log(maxAll[1]), width=w, color='lightsteelblue', label='bias, max', edgecolor='black')\n",
    "plt.bar(np.arange(3,11)+1.5*w, np.log(maxAll[0]), width=w, color='moccasin', label='homogeneous, max', edgecolor='black')\n",
    "#plt.errorbar(np.arange(3,11), meanAll[1], yerr=errAll[1], fmt='none', capsize=2, capthick=0.3, elinewidth=1, color='gray')\n",
    "\n",
    "\n",
    "\n",
    "plt.ylabel('Execution Time (log µs)')\n",
    "plt.xlabel('Chain Length K')\n",
    "plt.legend()\n",
    "plt.rcParams['axes.spines.right'] = False\n",
    "plt.rcParams['axes.spines.top'] = False\n",
    "plt.grid(color='grey', linestyle='-', linewidth=0.1)\n",
    "plt.rcParams['axes.axisbelow'] = True\n",
    "#plt.title('Algorithm2: NF-Cluster Assignment')\n",
    "plt.tight_layout()\n",
    "plt.savefig('algo2_resample_200.png', dpi=1000)"
   ]
  },
  {
   "cell_type": "code",
   "execution_count": null,
   "metadata": {},
   "outputs": [],
   "source": [
    "w=0.2\n",
    "#plt.bar(np.arange(3,11)-w, meanAll[2], width=w, color='red', label='1/x^'+str(distr[2]))\n",
    "#plt.errorbar(np.arange(3,11)-w, meanAll[2], yerr=errAll[2], fmt='none', capsize=2, capthick=0.3, elinewidth=1, color='gray')\n",
    "\n",
    "plt.bar(np.arange(3,11)-1.5*w, meanAll[1], width=w, color='blue', label='bias, avg', edgecolor='black')\n",
    "plt.bar(np.arange(3,11)+0.5*w, maxAll[1], width=w, color='lightsteelblue', label='bias, max', edgecolor='black')\n",
    "#plt.errorbar(np.arange(3,11)+w, meanAll[0], yerr=errAll[0], fmt='none', capsize=2, capthick=0.3, elinewidth=1, color='gray')\n",
    "\n",
    "plt.bar(np.arange(3,11)-0.5*w, meanAll[0], width=w, color='orange', label='homogeneous, avg', edgecolor='black')\n",
    "plt.bar(np.arange(3,11)+1.5*w, maxAll[0], width=w, color='moccasin', label='homogeneous, max', edgecolor='black')\n",
    "#plt.errorbar(np.arange(3,11), meanAll[1], yerr=errAll[1], fmt='none', capsize=2, capthick=0.3, elinewidth=1, color='gray')\n",
    "\n",
    "\n",
    "\n",
    "plt.ylabel('Execution Time (µs)')\n",
    "plt.xlabel('Chain Length K')\n",
    "plt.legend()\n",
    "plt.rcParams['axes.spines.right'] = False\n",
    "plt.rcParams['axes.spines.top'] = False\n",
    "plt.grid(color='grey', linestyle='-', linewidth=0.1)\n",
    "plt.rcParams['axes.axisbelow'] = True\n",
    "#plt.title('Algorithm2: NF-Cluster Assignment')\n",
    "plt.tight_layout()\n",
    "plt.savefig('algo2_resample_200_nolog.png', dpi=1000)"
   ]
  },
  {
   "cell_type": "code",
   "execution_count": null,
   "metadata": {},
   "outputs": [],
   "source": [
    "from scipy.io import savemat\n",
    "mdic = {\"algo2_bias_avg\": meanAll[1], \n",
    "        \"algo2_homo_avg\": meanAll[0], \n",
    "        \"algo2_bias_max\": maxAll[1],\n",
    "        \"algo2_homo_max\": maxAll[0]}\n",
    "savemat(\"ppc_algo2_runtime_nolog.mat\", mdic)"
   ]
  },
  {
   "cell_type": "code",
   "execution_count": null,
   "metadata": {},
   "outputs": [],
   "source": []
  }
 ],
 "metadata": {
  "kernelspec": {
   "display_name": "Python 3",
   "language": "python",
   "name": "python3"
  },
  "language_info": {
   "codemirror_mode": {
    "name": "ipython",
    "version": 3
   },
   "file_extension": ".py",
   "mimetype": "text/x-python",
   "name": "python",
   "nbconvert_exporter": "python",
   "pygments_lexer": "ipython3",
   "version": "3.8.5"
  }
 },
 "nbformat": 4,
 "nbformat_minor": 2
}
