{
 "cells": [
  {
   "cell_type": "code",
   "execution_count": null,
   "metadata": {},
   "outputs": [],
   "source": [
    "import math\n",
    "import matplotlib.pyplot as plt\n",
    "%matplotlib notebook\n",
    "MAX_K = 20\n",
    "MAX_V = 16"
   ]
  },
  {
   "cell_type": "markdown",
   "metadata": {},
   "source": [
    "### Algorithm 1: Cluster Size Enumeration"
   ]
  },
  {
   "cell_type": "code",
   "execution_count": null,
   "metadata": {},
   "outputs": [],
   "source": [
    "# O(K^2)\n",
    "a1_compx1 = [int(math.pow(k,2)) for k in range(1, MAX_K+1)]\n",
    "print(a1_compx1)\n",
    "# O(2^(K-1))\n",
    "a1_compx2 = [int(math.pow(2,k-1)) for k in range(1, MAX_K+1)]\n",
    "print(a1_compx2)"
   ]
  },
  {
   "cell_type": "markdown",
   "metadata": {},
   "source": [
    "### Algorithm 2: NF-Cluster Assignment"
   ]
  },
  {
   "cell_type": "code",
   "execution_count": null,
   "metadata": {},
   "outputs": [],
   "source": [
    "# O(|SK|K^(1+K/2))\n",
    "a2_compx1 = [math.pow(2,k-1)*math.pow(k, 1+k/2) for k in range(1, MAX_K+1)]\n",
    "print(a2_compx1)\n",
    "# O(K!2^(K-1)) worst case\n",
    "a2_compx2 = [math.factorial(k)*math.pow(2,k-1) for k in range(1, MAX_K+1)]\n",
    "print(a2_compx2)\n",
    "plt.plot(range(1, MAX_K+1), list(map(math.log, a2_compx1)), '-o', label='original')\n",
    "plt.plot(range(1, MAX_K+1), list(map(math.log, a2_compx2)), '-o', label='reviewer')\n",
    "plt.xticks(range(1, MAX_K+1))\n",
    "plt.ylabel('log(complexity)')\n",
    "plt.xlabel('K')\n",
    "plt.legend()"
   ]
  },
  {
   "cell_type": "code",
   "execution_count": null,
   "metadata": {},
   "outputs": [],
   "source": []
  },
  {
   "cell_type": "markdown",
   "metadata": {},
   "source": [
    "### Algorithm 3: Joint Instance Selection and Routing"
   ]
  },
  {
   "cell_type": "code",
   "execution_count": null,
   "metadata": {},
   "outputs": [],
   "source": [
    "# Graph Construction O(K*|V|^(2K))\n",
    "a3_compx1 = [k*math.pow(MAX_V, 2*k) for k in range(1, MAX_K+1)]\n",
    "print(a3_compx1)\n",
    "# Shortest Path Search O(|V^L|^2), indep of K\n",
    "MAX_VL = MAX_K\n",
    "a3_compx2 = [int(math.pow(vl, 2)) for vl in range(1, MAX_VL+1)]\n",
    "print(a3_compx2)"
   ]
  },
  {
   "cell_type": "code",
   "execution_count": null,
   "metadata": {},
   "outputs": [],
   "source": [
    "# "
   ]
  },
  {
   "cell_type": "code",
   "execution_count": null,
   "metadata": {},
   "outputs": [],
   "source": []
  }
 ],
 "metadata": {
  "kernelspec": {
   "display_name": "Python 3",
   "language": "python",
   "name": "python3"
  },
  "language_info": {
   "codemirror_mode": {
    "name": "ipython",
    "version": 3
   },
   "file_extension": ".py",
   "mimetype": "text/x-python",
   "name": "python",
   "nbconvert_exporter": "python",
   "pygments_lexer": "ipython3",
   "version": "3.7.3"
  }
 },
 "nbformat": 4,
 "nbformat_minor": 2
}
