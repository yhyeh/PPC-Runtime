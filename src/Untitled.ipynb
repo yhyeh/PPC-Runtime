{
 "cells": [
  {
   "cell_type": "code",
   "execution_count": 11,
   "metadata": {},
   "outputs": [
    {
     "name": "stdout",
     "output_type": "stream",
     "text": [
      "0.3998000000\n",
      "0.3802967686\n",
      "0.3617449530\n",
      "0.3440981407\n",
      "0.3273121836\n",
      "0.3113450869\n",
      "0.2961569046\n",
      "0.2817096394\n",
      "0.2679671474\n",
      "0.2548950481\n",
      "0.2424606382\n",
      "0.2306328094\n",
      "0.2193819714\n",
      "0.2086799770\n",
      "0.1985000523\n",
      "0.1888167295\n",
      "0.1796057831\n",
      "0.1708441694\n",
      "0.1625099689\n",
      "0.1545823313\n"
     ]
    }
   ],
   "source": [
    "lr = 0.4\n",
    "for i in range(2000):\n",
    "    lr *= 0.9995\n",
    "    if i%100 == 0:\n",
    "        print('{:.10f}'.format(lr))"
   ]
  },
  {
   "cell_type": "code",
   "execution_count": null,
   "metadata": {},
   "outputs": [],
   "source": []
  }
 ],
 "metadata": {
  "kernelspec": {
   "display_name": "Python 3",
   "language": "python",
   "name": "python3"
  },
  "language_info": {
   "codemirror_mode": {
    "name": "ipython",
    "version": 3
   },
   "file_extension": ".py",
   "mimetype": "text/x-python",
   "name": "python",
   "nbconvert_exporter": "python",
   "pygments_lexer": "ipython3",
   "version": "3.8.5"
  }
 },
 "nbformat": 4,
 "nbformat_minor": 4
}
