{
 "cells": [
  {
   "cell_type": "code",
   "execution_count": null,
   "metadata": {},
   "outputs": [],
   "source": [
    "import math\n",
    "from math import factorial as f\n",
    "conf_cnt = []"
   ]
  },
  {
   "cell_type": "code",
   "execution_count": null,
   "metadata": {},
   "outputs": [],
   "source": [
    "def permu(s):\n",
    "    ssize = 1\n",
    "    n = sum(s)\n",
    "    for x in s:\n",
    "        ssize *= int(f(n) / f(x) / f(n-x))\n",
    "        n -= x\n",
    "    return ssize\n",
    "def multiplication(s):\n",
    "    ssize = 1\n",
    "    for x in s:\n",
    "        ssize *= conf_cnt[x]\n",
    "    return ssize\n",
    "def worst(s):\n",
    "    ssize = len(s)\n",
    "    for x in s:\n",
    "        ssize *= int(math.pow(2, x-1))*math.factorial(x)\n",
    "    return ssize\n",
    "\n",
    "def combination(K):\n",
    "    # init\n",
    "    S_K = [[0,] for x in range(K+1)]\n",
    "    S_K[0].clear()\n",
    "    S_K[0].append([])\n",
    "    counter = 0\n",
    "    global conf_cnt\n",
    "    conf_cnt = [0 for x in range(K+1)]\n",
    "    \n",
    "    # start\n",
    "    for k in range(1,K+1):\n",
    "        S_K[k].clear()\n",
    "\n",
    "        for i in range(1,k+1):\n",
    "            for prev in S_K[k-i]:\n",
    "                tmp = [i,]\n",
    "                tmp.extend(prev)\n",
    "                S_K[k].append(tmp)\n",
    "        print(\"s\", k, ', length:', len(S_K[k]))\n",
    "        print(\"all possibility of PCf\", S_K[k])\n",
    "        sizeList = list(map(permu , S_K[k]))\n",
    "        print(sizeList)\n",
    "        conf_cnt[k] = sum(sizeList)\n",
    "        print(\"all possibility cnt if funcs are fully parallelizable:\", conf_cnt[k])\n",
    "        print(\"actual cnt\", list(map(multiplication , S_K[k])))\n",
    "        print(\"worst cnt\", list(map(worst , S_K[k])))\n",
    "        print()\n",
    "        counter += len(S_K[k])\n",
    "    print(\"\\n====================\")\n",
    "    print(\"sum of length:\", counter)\n"
   ]
  },
  {
   "cell_type": "code",
   "execution_count": null,
   "metadata": {
    "scrolled": false
   },
   "outputs": [],
   "source": [
    "if __name__ == '__main__':\n",
    "    combination(6)"
   ]
  },
  {
   "cell_type": "code",
   "execution_count": null,
   "metadata": {},
   "outputs": [],
   "source": [
    "import numpy as np\n",
    "runtime = np.genfromtxt('algo1.csv',delimiter=',')\n",
    "mean = np.mean(runtime, axis=1, keepdims=True)\n",
    "standard_deviation = np.std(runtime, axis=1, keepdims=True)\n",
    "print(runtime)\n",
    "distance_from_mean = abs(runtime - mean)\n",
    "max_deviations = 2\n",
    "not_outlier = distance_from_mean < max_deviations * standard_deviation\n",
    "for i in range(runtime.shape[0]):\n",
    "    for j in range(runtime.shape[1]):\n",
    "        if not_outlier[i][j] == False:\n",
    "            runtime[i][j] = np.mean(runtime[i][not_outlier[i]])\n",
    "            \n",
    "print(runtime)\n",
    "newMean = np.mean(runtime, axis=1)\n",
    "Max = np.max(runtime, axis=1)-newMean\n",
    "Min = newMean - np.min(runtime, axis=1)\n",
    "print(newMean)\n",
    "print(Max)\n",
    "print(Min)\n",
    "err = np.zeros((2, len(Max)))\n",
    "err[0] = Min\n",
    "err[1] = Max\n",
    "print(err)"
   ]
  },
  {
   "cell_type": "code",
   "execution_count": null,
   "metadata": {},
   "outputs": [],
   "source": [
    "import matplotlib.pyplot as plt\n",
    "#%matplotlib notebook"
   ]
  },
  {
   "cell_type": "code",
   "execution_count": null,
   "metadata": {},
   "outputs": [],
   "source": [
    "plt.bar(range(3,11), newMean, width=0.5, color='orange', edgecolor='black')\n",
    "plt.errorbar(range(3,11), newMean, yerr=err, fmt='none', \n",
    "             capsize=2, capthick=0.6, elinewidth=1, color='black')\n",
    "plt.ylabel('Execution Time (µs)')\n",
    "plt.xlabel('Chain Length K')\n",
    "plt.rcParams['axes.spines.right'] = False\n",
    "plt.rcParams['axes.spines.top'] = False\n",
    "plt.grid(color='grey', linestyle='-', linewidth=0.1)\n",
    "plt.rcParams['axes.axisbelow'] = True\n",
    "#plt.title('Algorithm1: Cluster Size Enumeration')\n",
    "plt.tight_layout()\n",
    "plt.savefig('algo1.png', dpi=2000)"
   ]
  },
  {
   "cell_type": "code",
   "execution_count": null,
   "metadata": {},
   "outputs": [],
   "source": [
    "from scipy.io import savemat\n",
    "mdic = {\"algo1_avg\": newMean, \n",
    "        \"algo1_err_min\": Min, \n",
    "        \"algo1_err_max\": Max}\n",
    "savemat(\"ppc_algo1_runtime.mat\", mdic)"
   ]
  },
  {
   "cell_type": "code",
   "execution_count": null,
   "metadata": {},
   "outputs": [],
   "source": [
    "mdic"
   ]
  },
  {
   "cell_type": "code",
   "execution_count": null,
   "metadata": {},
   "outputs": [],
   "source": []
  }
 ],
 "metadata": {
  "kernelspec": {
   "display_name": "Python 3",
   "language": "python",
   "name": "python3"
  },
  "language_info": {
   "codemirror_mode": {
    "name": "ipython",
    "version": 3
   },
   "file_extension": ".py",
   "mimetype": "text/x-python",
   "name": "python",
   "nbconvert_exporter": "python",
   "pygments_lexer": "ipython3",
   "version": "3.8.5"
  }
 },
 "nbformat": 4,
 "nbformat_minor": 2
}
